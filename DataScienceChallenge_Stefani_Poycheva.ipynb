{
  "nbformat": 4,
  "nbformat_minor": 0,
  "metadata": {
    "colab": {
      "name": " DataScienceChallenge_Stefani_Poycheva",
      "provenance": [],
      "collapsed_sections": [],
      "include_colab_link": true
    },
    "kernelspec": {
      "name": "python3",
      "display_name": "Python 3"
    },
    "language_info": {
      "name": "python"
    }
  },
  "cells": [
    {
      "cell_type": "markdown",
      "metadata": {
        "id": "view-in-github",
        "colab_type": "text"
      },
      "source": [
        "<a href=\"https://colab.research.google.com/github/spoycheva/A-B-test/blob/main/DataScienceChallenge_Stefani_Poycheva.ipynb\" target=\"_parent\"><img src=\"https://colab.research.google.com/assets/colab-badge.svg\" alt=\"Open In Colab\"/></a>"
      ]
    },
    {
      "cell_type": "markdown",
      "metadata": {
        "id": "Qj2nA1uOtuxW"
      },
      "source": [
        "# Data Scientist\n",
        "\n",
        "## Task\n",
        "\n",
        "Accurately predicting future demand is key for success in hospitality industry, since a demand forecast helps with planning of inventory or staffing.\n",
        "\n",
        "Your task is to predict future daily sales for all locations of one restaurant chain. The prediction should provide daily sales for 7 days ahead.\n",
        "\n",
        "I.e., the output is: for each location predicted daily sales, for 7 days ahead are returned.\n",
        "\n",
        "| location | Date of Prediction | Forecast day 1 | Forecast day 2 | Forecast day 3 | …   | Forecast day 7 |\n",
        "|----------|--------------------|----------------|----------------|----------------|-----|----------------|\n",
        "| 9809     | 2019-12-01         | 500            | 530            | 480            | ... | 830            |\n",
        "| 9810     | 2019-12-01         | 1250           | 1300           | 600            | ... | 1670           |\n",
        "\n",
        "_We suggest you do not spend more than 8 hours on the task._\n",
        "\n",
        "## Output\n",
        "\n",
        "### What do we expect to get?\n",
        "- Predictive model (end-to-end; from input data to the output predictions; both training and scoring) in Python\n",
        "- Modelling documentation\n",
        "\n",
        "### What are we assessing?\n",
        "- Performance of the models (and the choice of the performance metric)\n",
        "- Modelling approach\n",
        "- Machine Learning best practices\n",
        "- Quality and readability of the code\n",
        "\n",
        "## Data\n",
        "\n",
        "Use data provided in the file `TestData.csv`. The data contain daily sales data for 163 locations over a span of 25 months – 1 December 2017 and 31 December 2019.\n",
        "\n",
        "Demonstrate the model performance in December 2019.\n",
        "- Sales data available until 30 November 2019 & prediction for 1 to 7 December 2019\n",
        "- Sales data available until 1 December 2019 & prediction for 2 to 8 December 2019\n",
        "- Etc.\n",
        "\n",
        "All locations are from the same restaurant chain.\n",
        "\n",
        "### Header\n",
        "- location – id of the restaurant\n",
        "- date - date\n",
        "- sales – aggregated daily sales\n",
        "\n",
        "**Tip:** In case you want to consider other factors influencing future sales, assume all locations are in London.\n",
        "\n"
      ]
    },
    {
      "cell_type": "code",
      "metadata": {
        "id": "7Mlk2wO5ts1o"
      },
      "source": [
        "from google.colab import auth\n",
        "auth.authenticate_user()"
      ],
      "execution_count": 1,
      "outputs": []
    },
    {
      "cell_type": "code",
      "metadata": {
        "colab": {
          "base_uri": "https://localhost:8080/"
        },
        "id": "VxcBuDfpt-3u",
        "outputId": "4c0cc8e1-8ae2-4489-ea26-fb16197817fb"
      },
      "source": [
        "!gsutil cp gs://data-science-challenge-data/TestData.csv ."
      ],
      "execution_count": 3,
      "outputs": [
        {
          "output_type": "stream",
          "text": [
            "Copying gs://data-science-challenge-data/TestData.csv...\n",
            "/ [0 files][    0.0 B/  2.8 MiB]                                                \r/ [1 files][  2.8 MiB/  2.8 MiB]                                                \r\n",
            "Operation completed over 1 objects/2.8 MiB.                                      \n"
          ],
          "name": "stdout"
        }
      ]
    },
    {
      "cell_type": "code",
      "metadata": {
        "id": "pPIudESxuI2M",
        "colab": {
          "base_uri": "https://localhost:8080/",
          "height": 204
        },
        "outputId": "0931d5d0-3cce-4277-a2d3-6451064b527f"
      },
      "source": [
        "#Import library\n",
        "import pandas as pd\n",
        "import matplotlib.pyplot as plt\n",
        "%matplotlib inline\n",
        "\n",
        "#Import data set\n",
        "df = pd.read_csv('TestData.csv')\n",
        "df.head()"
      ],
      "execution_count": 4,
      "outputs": [
        {
          "output_type": "execute_result",
          "data": {
            "text/html": [
              "<div>\n",
              "<style scoped>\n",
              "    .dataframe tbody tr th:only-of-type {\n",
              "        vertical-align: middle;\n",
              "    }\n",
              "\n",
              "    .dataframe tbody tr th {\n",
              "        vertical-align: top;\n",
              "    }\n",
              "\n",
              "    .dataframe thead th {\n",
              "        text-align: right;\n",
              "    }\n",
              "</style>\n",
              "<table border=\"1\" class=\"dataframe\">\n",
              "  <thead>\n",
              "    <tr style=\"text-align: right;\">\n",
              "      <th></th>\n",
              "      <th>location</th>\n",
              "      <th>date</th>\n",
              "      <th>sales</th>\n",
              "    </tr>\n",
              "  </thead>\n",
              "  <tbody>\n",
              "    <tr>\n",
              "      <th>0</th>\n",
              "      <td>9708</td>\n",
              "      <td>2017-12-01</td>\n",
              "      <td>5371.933333</td>\n",
              "    </tr>\n",
              "    <tr>\n",
              "      <th>1</th>\n",
              "      <td>9708</td>\n",
              "      <td>2017-12-02</td>\n",
              "      <td>6789.400000</td>\n",
              "    </tr>\n",
              "    <tr>\n",
              "      <th>2</th>\n",
              "      <td>9708</td>\n",
              "      <td>2017-12-03</td>\n",
              "      <td>2437.080000</td>\n",
              "    </tr>\n",
              "    <tr>\n",
              "      <th>3</th>\n",
              "      <td>9708</td>\n",
              "      <td>2017-12-04</td>\n",
              "      <td>1395.700000</td>\n",
              "    </tr>\n",
              "    <tr>\n",
              "      <th>4</th>\n",
              "      <td>9708</td>\n",
              "      <td>2017-12-05</td>\n",
              "      <td>2020.300000</td>\n",
              "    </tr>\n",
              "  </tbody>\n",
              "</table>\n",
              "</div>"
            ],
            "text/plain": [
              "   location        date        sales\n",
              "0      9708  2017-12-01  5371.933333\n",
              "1      9708  2017-12-02  6789.400000\n",
              "2      9708  2017-12-03  2437.080000\n",
              "3      9708  2017-12-04  1395.700000\n",
              "4      9708  2017-12-05  2020.300000"
            ]
          },
          "metadata": {
            "tags": []
          },
          "execution_count": 4
        }
      ]
    },
    {
      "cell_type": "code",
      "metadata": {
        "colab": {
          "base_uri": "https://localhost:8080/"
        },
        "id": "aj5iZdOumpL-",
        "outputId": "0b06388c-420b-4ef0-aad8-3aba18b52115"
      },
      "source": [
        "#Check data type\n",
        "type(df)"
      ],
      "execution_count": 5,
      "outputs": [
        {
          "output_type": "execute_result",
          "data": {
            "text/plain": [
              "pandas.core.frame.DataFrame"
            ]
          },
          "metadata": {
            "tags": []
          },
          "execution_count": 5
        }
      ]
    },
    {
      "cell_type": "code",
      "metadata": {
        "colab": {
          "base_uri": "https://localhost:8080/",
          "height": 450
        },
        "id": "sQv1NlgMoVgH",
        "outputId": "88b6f033-9b91-4417-8d8c-fa33d6976417"
      },
      "source": [
        "data = pd.read_csv('TestData.csv',index_col=[1],parse_dates=True,squeeze=True)\n",
        "data"
      ],
      "execution_count": 6,
      "outputs": [
        {
          "output_type": "execute_result",
          "data": {
            "text/html": [
              "<div>\n",
              "<style scoped>\n",
              "    .dataframe tbody tr th:only-of-type {\n",
              "        vertical-align: middle;\n",
              "    }\n",
              "\n",
              "    .dataframe tbody tr th {\n",
              "        vertical-align: top;\n",
              "    }\n",
              "\n",
              "    .dataframe thead th {\n",
              "        text-align: right;\n",
              "    }\n",
              "</style>\n",
              "<table border=\"1\" class=\"dataframe\">\n",
              "  <thead>\n",
              "    <tr style=\"text-align: right;\">\n",
              "      <th></th>\n",
              "      <th>location</th>\n",
              "      <th>sales</th>\n",
              "    </tr>\n",
              "    <tr>\n",
              "      <th>date</th>\n",
              "      <th></th>\n",
              "      <th></th>\n",
              "    </tr>\n",
              "  </thead>\n",
              "  <tbody>\n",
              "    <tr>\n",
              "      <th>2017-12-01</th>\n",
              "      <td>9708</td>\n",
              "      <td>5371.933333</td>\n",
              "    </tr>\n",
              "    <tr>\n",
              "      <th>2017-12-02</th>\n",
              "      <td>9708</td>\n",
              "      <td>6789.400000</td>\n",
              "    </tr>\n",
              "    <tr>\n",
              "      <th>2017-12-03</th>\n",
              "      <td>9708</td>\n",
              "      <td>2437.080000</td>\n",
              "    </tr>\n",
              "    <tr>\n",
              "      <th>2017-12-04</th>\n",
              "      <td>9708</td>\n",
              "      <td>1395.700000</td>\n",
              "    </tr>\n",
              "    <tr>\n",
              "      <th>2017-12-05</th>\n",
              "      <td>9708</td>\n",
              "      <td>2020.300000</td>\n",
              "    </tr>\n",
              "    <tr>\n",
              "      <th>...</th>\n",
              "      <td>...</td>\n",
              "      <td>...</td>\n",
              "    </tr>\n",
              "    <tr>\n",
              "      <th>2019-12-27</th>\n",
              "      <td>15512</td>\n",
              "      <td>3573.933333</td>\n",
              "    </tr>\n",
              "    <tr>\n",
              "      <th>2019-12-28</th>\n",
              "      <td>15512</td>\n",
              "      <td>3800.466667</td>\n",
              "    </tr>\n",
              "    <tr>\n",
              "      <th>2019-12-29</th>\n",
              "      <td>15512</td>\n",
              "      <td>3053.733333</td>\n",
              "    </tr>\n",
              "    <tr>\n",
              "      <th>2019-12-30</th>\n",
              "      <td>15512</td>\n",
              "      <td>3295.133333</td>\n",
              "    </tr>\n",
              "    <tr>\n",
              "      <th>2019-12-31</th>\n",
              "      <td>15512</td>\n",
              "      <td>3389.100000</td>\n",
              "    </tr>\n",
              "  </tbody>\n",
              "</table>\n",
              "<p>95667 rows × 2 columns</p>\n",
              "</div>"
            ],
            "text/plain": [
              "            location        sales\n",
              "date                             \n",
              "2017-12-01      9708  5371.933333\n",
              "2017-12-02      9708  6789.400000\n",
              "2017-12-03      9708  2437.080000\n",
              "2017-12-04      9708  1395.700000\n",
              "2017-12-05      9708  2020.300000\n",
              "...              ...          ...\n",
              "2019-12-27     15512  3573.933333\n",
              "2019-12-28     15512  3800.466667\n",
              "2019-12-29     15512  3053.733333\n",
              "2019-12-30     15512  3295.133333\n",
              "2019-12-31     15512  3389.100000\n",
              "\n",
              "[95667 rows x 2 columns]"
            ]
          },
          "metadata": {
            "tags": []
          },
          "execution_count": 6
        }
      ]
    },
    {
      "cell_type": "code",
      "metadata": {
        "colab": {
          "base_uri": "https://localhost:8080/"
        },
        "id": "4iouvLbMonm4",
        "outputId": "0eb8a450-13ee-4f09-d074-5467d4bb9a2a"
      },
      "source": [
        "type(data)"
      ],
      "execution_count": 7,
      "outputs": [
        {
          "output_type": "execute_result",
          "data": {
            "text/plain": [
              "pandas.core.frame.DataFrame"
            ]
          },
          "metadata": {
            "tags": []
          },
          "execution_count": 7
        }
      ]
    },
    {
      "cell_type": "code",
      "metadata": {
        "colab": {
          "base_uri": "https://localhost:8080/",
          "height": 294
        },
        "id": "kKNRt6TUo6J2",
        "outputId": "3c990fba-ae9d-4dec-8dfc-45192bdb81d5"
      },
      "source": [
        "#All sales on locations\n",
        "data['sales'].plot()"
      ],
      "execution_count": 8,
      "outputs": [
        {
          "output_type": "execute_result",
          "data": {
            "text/plain": [
              "<matplotlib.axes._subplots.AxesSubplot at 0x7f275f36e5d0>"
            ]
          },
          "metadata": {
            "tags": []
          },
          "execution_count": 8
        },
        {
          "output_type": "display_data",
          "data": {
            "image/png": "[encoded data removed]",
            "text/plain": [
              "<Figure size 432x288 with 1 Axes>"
            ]
          },
          "metadata": {
            "tags": [],
            "needs_background": "light"
          }
        }
      ]
    },
    {
      "cell_type": "code",
      "metadata": {
        "colab": {
          "base_uri": "https://localhost:8080/",
          "height": 450
        },
        "id": "CKTr1pRljjNx",
        "outputId": "b6310b18-3d83-4201-d27e-9a4c9ad11c7e"
      },
      "source": [
        "#Location filter with the most sales\n",
        "df_max = data[data[\"location\"] == 9789]\n",
        "df_max"
      ],
      "execution_count": 9,
      "outputs": [
        {
          "output_type": "execute_result",
          "data": {
            "text/html": [
              "<div>\n",
              "<style scoped>\n",
              "    .dataframe tbody tr th:only-of-type {\n",
              "        vertical-align: middle;\n",
              "    }\n",
              "\n",
              "    .dataframe tbody tr th {\n",
              "        vertical-align: top;\n",
              "    }\n",
              "\n",
              "    .dataframe thead th {\n",
              "        text-align: right;\n",
              "    }\n",
              "</style>\n",
              "<table border=\"1\" class=\"dataframe\">\n",
              "  <thead>\n",
              "    <tr style=\"text-align: right;\">\n",
              "      <th></th>\n",
              "      <th>location</th>\n",
              "      <th>sales</th>\n",
              "    </tr>\n",
              "    <tr>\n",
              "      <th>date</th>\n",
              "      <th></th>\n",
              "      <th></th>\n",
              "    </tr>\n",
              "  </thead>\n",
              "  <tbody>\n",
              "    <tr>\n",
              "      <th>2017-12-01</th>\n",
              "      <td>9789</td>\n",
              "      <td>16462.600000</td>\n",
              "    </tr>\n",
              "    <tr>\n",
              "      <th>2017-12-02</th>\n",
              "      <td>9789</td>\n",
              "      <td>19300.646667</td>\n",
              "    </tr>\n",
              "    <tr>\n",
              "      <th>2017-12-03</th>\n",
              "      <td>9789</td>\n",
              "      <td>4939.280000</td>\n",
              "    </tr>\n",
              "    <tr>\n",
              "      <th>2017-12-04</th>\n",
              "      <td>9789</td>\n",
              "      <td>4903.460000</td>\n",
              "    </tr>\n",
              "    <tr>\n",
              "      <th>2017-12-05</th>\n",
              "      <td>9789</td>\n",
              "      <td>7227.500000</td>\n",
              "    </tr>\n",
              "    <tr>\n",
              "      <th>...</th>\n",
              "      <td>...</td>\n",
              "      <td>...</td>\n",
              "    </tr>\n",
              "    <tr>\n",
              "      <th>2019-12-27</th>\n",
              "      <td>9789</td>\n",
              "      <td>6826.193333</td>\n",
              "    </tr>\n",
              "    <tr>\n",
              "      <th>2019-12-28</th>\n",
              "      <td>9789</td>\n",
              "      <td>10774.146667</td>\n",
              "    </tr>\n",
              "    <tr>\n",
              "      <th>2019-12-29</th>\n",
              "      <td>9789</td>\n",
              "      <td>5805.760000</td>\n",
              "    </tr>\n",
              "    <tr>\n",
              "      <th>2019-12-30</th>\n",
              "      <td>9789</td>\n",
              "      <td>5192.146667</td>\n",
              "    </tr>\n",
              "    <tr>\n",
              "      <th>2019-12-31</th>\n",
              "      <td>9789</td>\n",
              "      <td>9271.346667</td>\n",
              "    </tr>\n",
              "  </tbody>\n",
              "</table>\n",
              "<p>752 rows × 2 columns</p>\n",
              "</div>"
            ],
            "text/plain": [
              "            location         sales\n",
              "date                              \n",
              "2017-12-01      9789  16462.600000\n",
              "2017-12-02      9789  19300.646667\n",
              "2017-12-03      9789   4939.280000\n",
              "2017-12-04      9789   4903.460000\n",
              "2017-12-05      9789   7227.500000\n",
              "...              ...           ...\n",
              "2019-12-27      9789   6826.193333\n",
              "2019-12-28      9789  10774.146667\n",
              "2019-12-29      9789   5805.760000\n",
              "2019-12-30      9789   5192.146667\n",
              "2019-12-31      9789   9271.346667\n",
              "\n",
              "[752 rows x 2 columns]"
            ]
          },
          "metadata": {
            "tags": []
          },
          "execution_count": 9
        }
      ]
    },
    {
      "cell_type": "code",
      "metadata": {
        "colab": {
          "base_uri": "https://localhost:8080/",
          "height": 294
        },
        "id": "EnrWAxb0pQwM",
        "outputId": "a2423da5-0243-4cba-b70d-0d79331c0fbc"
      },
      "source": [
        "#Plotting the location with the most sales\n",
        "df_max['sales'].plot()"
      ],
      "execution_count": 10,
      "outputs": [
        {
          "output_type": "execute_result",
          "data": {
            "text/plain": [
              "<matplotlib.axes._subplots.AxesSubplot at 0x7f275e711c10>"
            ]
          },
          "metadata": {
            "tags": []
          },
          "execution_count": 10
        },
        {
          "output_type": "display_data",
          "data": {
            "image/png": "[encoded data removed]",
            "text/plain": [
              "<Figure size 432x288 with 1 Axes>"
            ]
          },
          "metadata": {
            "tags": [],
            "needs_background": "light"
          }
        }
      ]
    },
    {
      "cell_type": "code",
      "metadata": {
        "colab": {
          "base_uri": "https://localhost:8080/",
          "height": 294
        },
        "id": "2YjN7MVqp2QN",
        "outputId": "1d484051-04ea-4bd7-c2ee-8848cfacc893"
      },
      "source": [
        "df_max['sales'].plot(style = 'k.')"
      ],
      "execution_count": 11,
      "outputs": [
        {
          "output_type": "execute_result",
          "data": {
            "text/plain": [
              "<matplotlib.axes._subplots.AxesSubplot at 0x7f275e67f550>"
            ]
          },
          "metadata": {
            "tags": []
          },
          "execution_count": 11
        },
        {
          "output_type": "display_data",
          "data": {
            "image/png": "[encoded data removed]",
            "text/plain": [
              "<Figure size 432x288 with 1 Axes>"
            ]
          },
          "metadata": {
            "tags": [],
            "needs_background": "light"
          }
        }
      ]
    },
    {
      "cell_type": "code",
      "metadata": {
        "colab": {
          "base_uri": "https://localhost:8080/"
        },
        "id": "fbBRkoY4qy9_",
        "outputId": "c9412ea5-2657-4e0b-9dbf-e91ad2a82849"
      },
      "source": [
        "#Size of date set\n",
        "df_max.size"
      ],
      "execution_count": 12,
      "outputs": [
        {
          "output_type": "execute_result",
          "data": {
            "text/plain": [
              "1504"
            ]
          },
          "metadata": {
            "tags": []
          },
          "execution_count": 12
        }
      ]
    },
    {
      "cell_type": "code",
      "metadata": {
        "colab": {
          "base_uri": "https://localhost:8080/",
          "height": 297
        },
        "id": "Kiaoac8cq5D-",
        "outputId": "d4d003fb-673f-430f-d4ba-b47be988805c"
      },
      "source": [
        "#View describe statistics\n",
        "df_max.describe()"
      ],
      "execution_count": 13,
      "outputs": [
        {
          "output_type": "execute_result",
          "data": {
            "text/html": [
              "<div>\n",
              "<style scoped>\n",
              "    .dataframe tbody tr th:only-of-type {\n",
              "        vertical-align: middle;\n",
              "    }\n",
              "\n",
              "    .dataframe tbody tr th {\n",
              "        vertical-align: top;\n",
              "    }\n",
              "\n",
              "    .dataframe thead th {\n",
              "        text-align: right;\n",
              "    }\n",
              "</style>\n",
              "<table border=\"1\" class=\"dataframe\">\n",
              "  <thead>\n",
              "    <tr style=\"text-align: right;\">\n",
              "      <th></th>\n",
              "      <th>location</th>\n",
              "      <th>sales</th>\n",
              "    </tr>\n",
              "  </thead>\n",
              "  <tbody>\n",
              "    <tr>\n",
              "      <th>count</th>\n",
              "      <td>752.0</td>\n",
              "      <td>752.000000</td>\n",
              "    </tr>\n",
              "    <tr>\n",
              "      <th>mean</th>\n",
              "      <td>9789.0</td>\n",
              "      <td>5480.303165</td>\n",
              "    </tr>\n",
              "    <tr>\n",
              "      <th>std</th>\n",
              "      <td>0.0</td>\n",
              "      <td>4484.345803</td>\n",
              "    </tr>\n",
              "    <tr>\n",
              "      <th>min</th>\n",
              "      <td>9789.0</td>\n",
              "      <td>0.000000</td>\n",
              "    </tr>\n",
              "    <tr>\n",
              "      <th>25%</th>\n",
              "      <td>9789.0</td>\n",
              "      <td>2361.561667</td>\n",
              "    </tr>\n",
              "    <tr>\n",
              "      <th>50%</th>\n",
              "      <td>9789.0</td>\n",
              "      <td>3462.346667</td>\n",
              "    </tr>\n",
              "    <tr>\n",
              "      <th>75%</th>\n",
              "      <td>9789.0</td>\n",
              "      <td>7377.820000</td>\n",
              "    </tr>\n",
              "    <tr>\n",
              "      <th>max</th>\n",
              "      <td>9789.0</td>\n",
              "      <td>24770.633333</td>\n",
              "    </tr>\n",
              "  </tbody>\n",
              "</table>\n",
              "</div>"
            ],
            "text/plain": [
              "       location         sales\n",
              "count     752.0    752.000000\n",
              "mean     9789.0   5480.303165\n",
              "std         0.0   4484.345803\n",
              "min      9789.0      0.000000\n",
              "25%      9789.0   2361.561667\n",
              "50%      9789.0   3462.346667\n",
              "75%      9789.0   7377.820000\n",
              "max      9789.0  24770.633333"
            ]
          },
          "metadata": {
            "tags": []
          },
          "execution_count": 13
        }
      ]
    },
    {
      "cell_type": "code",
      "metadata": {
        "id": "Gkuds5p2tI7P"
      },
      "source": [
        "#To see the moving average for 10 days\n",
        "df_max_ma = df_max.rolling(window=10).mean()"
      ],
      "execution_count": 14,
      "outputs": []
    },
    {
      "cell_type": "code",
      "metadata": {
        "colab": {
          "base_uri": "https://localhost:8080/",
          "height": 294
        },
        "id": "izeX8ZVVtYQO",
        "outputId": "ea02e8c5-1f6f-4ba3-f51f-5d161799d9db"
      },
      "source": [
        "#Plotting of the moving average\n",
        "df_max_ma.plot()\n",
        "#Notice how sales increase at the end of each year (December)"
      ],
      "execution_count": 16,
      "outputs": [
        {
          "output_type": "execute_result",
          "data": {
            "text/plain": [
              "<matplotlib.axes._subplots.AxesSubplot at 0x7f275e537210>"
            ]
          },
          "metadata": {
            "tags": []
          },
          "execution_count": 16
        },
        {
          "output_type": "display_data",
          "data": {
            "image/png": "[encoded data removed]",
            "text/plain": [
              "<Figure size 432x288 with 1 Axes>"
            ]
          },
          "metadata": {
            "tags": [],
            "needs_background": "light"
          }
        }
      ]
    },
    {
      "cell_type": "code",
      "metadata": {
        "id": "hD7Se2N6vHjm"
      },
      "source": [
        "#Sales forecast for the next day.\n",
        "#As a forecast I will use the data from the previous day.\n",
        "df_max_base = pd.concat([df_max,df_max['sales'].shift(1)], axis=1)"
      ],
      "execution_count": 17,
      "outputs": []
    },
    {
      "cell_type": "code",
      "metadata": {
        "colab": {
          "base_uri": "https://localhost:8080/",
          "height": 450
        },
        "id": "i5-PMLAPvhcU",
        "outputId": "12f3b489-a63d-4daa-d4ac-4eb381916f0c"
      },
      "source": [
        "df_max_base"
      ],
      "execution_count": 18,
      "outputs": [
        {
          "output_type": "execute_result",
          "data": {
            "text/html": [
              "<div>\n",
              "<style scoped>\n",
              "    .dataframe tbody tr th:only-of-type {\n",
              "        vertical-align: middle;\n",
              "    }\n",
              "\n",
              "    .dataframe tbody tr th {\n",
              "        vertical-align: top;\n",
              "    }\n",
              "\n",
              "    .dataframe thead th {\n",
              "        text-align: right;\n",
              "    }\n",
              "</style>\n",
              "<table border=\"1\" class=\"dataframe\">\n",
              "  <thead>\n",
              "    <tr style=\"text-align: right;\">\n",
              "      <th></th>\n",
              "      <th>location</th>\n",
              "      <th>sales</th>\n",
              "      <th>sales</th>\n",
              "    </tr>\n",
              "    <tr>\n",
              "      <th>date</th>\n",
              "      <th></th>\n",
              "      <th></th>\n",
              "      <th></th>\n",
              "    </tr>\n",
              "  </thead>\n",
              "  <tbody>\n",
              "    <tr>\n",
              "      <th>2017-12-01</th>\n",
              "      <td>9789</td>\n",
              "      <td>16462.600000</td>\n",
              "      <td>NaN</td>\n",
              "    </tr>\n",
              "    <tr>\n",
              "      <th>2017-12-02</th>\n",
              "      <td>9789</td>\n",
              "      <td>19300.646667</td>\n",
              "      <td>16462.600000</td>\n",
              "    </tr>\n",
              "    <tr>\n",
              "      <th>2017-12-03</th>\n",
              "      <td>9789</td>\n",
              "      <td>4939.280000</td>\n",
              "      <td>19300.646667</td>\n",
              "    </tr>\n",
              "    <tr>\n",
              "      <th>2017-12-04</th>\n",
              "      <td>9789</td>\n",
              "      <td>4903.460000</td>\n",
              "      <td>4939.280000</td>\n",
              "    </tr>\n",
              "    <tr>\n",
              "      <th>2017-12-05</th>\n",
              "      <td>9789</td>\n",
              "      <td>7227.500000</td>\n",
              "      <td>4903.460000</td>\n",
              "    </tr>\n",
              "    <tr>\n",
              "      <th>...</th>\n",
              "      <td>...</td>\n",
              "      <td>...</td>\n",
              "      <td>...</td>\n",
              "    </tr>\n",
              "    <tr>\n",
              "      <th>2019-12-27</th>\n",
              "      <td>9789</td>\n",
              "      <td>6826.193333</td>\n",
              "      <td>1866.113333</td>\n",
              "    </tr>\n",
              "    <tr>\n",
              "      <th>2019-12-28</th>\n",
              "      <td>9789</td>\n",
              "      <td>10774.146667</td>\n",
              "      <td>6826.193333</td>\n",
              "    </tr>\n",
              "    <tr>\n",
              "      <th>2019-12-29</th>\n",
              "      <td>9789</td>\n",
              "      <td>5805.760000</td>\n",
              "      <td>10774.146667</td>\n",
              "    </tr>\n",
              "    <tr>\n",
              "      <th>2019-12-30</th>\n",
              "      <td>9789</td>\n",
              "      <td>5192.146667</td>\n",
              "      <td>5805.760000</td>\n",
              "    </tr>\n",
              "    <tr>\n",
              "      <th>2019-12-31</th>\n",
              "      <td>9789</td>\n",
              "      <td>9271.346667</td>\n",
              "      <td>5192.146667</td>\n",
              "    </tr>\n",
              "  </tbody>\n",
              "</table>\n",
              "<p>752 rows × 3 columns</p>\n",
              "</div>"
            ],
            "text/plain": [
              "            location         sales         sales\n",
              "date                                            \n",
              "2017-12-01      9789  16462.600000           NaN\n",
              "2017-12-02      9789  19300.646667  16462.600000\n",
              "2017-12-03      9789   4939.280000  19300.646667\n",
              "2017-12-04      9789   4903.460000   4939.280000\n",
              "2017-12-05      9789   7227.500000   4903.460000\n",
              "...              ...           ...           ...\n",
              "2019-12-27      9789   6826.193333   1866.113333\n",
              "2019-12-28      9789  10774.146667   6826.193333\n",
              "2019-12-29      9789   5805.760000  10774.146667\n",
              "2019-12-30      9789   5192.146667   5805.760000\n",
              "2019-12-31      9789   9271.346667   5192.146667\n",
              "\n",
              "[752 rows x 3 columns]"
            ]
          },
          "metadata": {
            "tags": []
          },
          "execution_count": 18
        }
      ]
    },
    {
      "cell_type": "code",
      "metadata": {
        "id": "yOIW061Iv1aB"
      },
      "source": [
        "#Rename columns\n",
        "df_max_base.columns = ['Location', 'Actual_Sales', 'Forcast_Sales']"
      ],
      "execution_count": 19,
      "outputs": []
    },
    {
      "cell_type": "code",
      "metadata": {
        "colab": {
          "base_uri": "https://localhost:8080/",
          "height": 450
        },
        "id": "NpDTPW4JwQqs",
        "outputId": "482303a1-23e2-495e-8932-23f970aa81e4"
      },
      "source": [
        "df_max_base"
      ],
      "execution_count": 20,
      "outputs": [
        {
          "output_type": "execute_result",
          "data": {
            "text/html": [
              "<div>\n",
              "<style scoped>\n",
              "    .dataframe tbody tr th:only-of-type {\n",
              "        vertical-align: middle;\n",
              "    }\n",
              "\n",
              "    .dataframe tbody tr th {\n",
              "        vertical-align: top;\n",
              "    }\n",
              "\n",
              "    .dataframe thead th {\n",
              "        text-align: right;\n",
              "    }\n",
              "</style>\n",
              "<table border=\"1\" class=\"dataframe\">\n",
              "  <thead>\n",
              "    <tr style=\"text-align: right;\">\n",
              "      <th></th>\n",
              "      <th>Location</th>\n",
              "      <th>Actual_Sales</th>\n",
              "      <th>Forcast_Sales</th>\n",
              "    </tr>\n",
              "    <tr>\n",
              "      <th>date</th>\n",
              "      <th></th>\n",
              "      <th></th>\n",
              "      <th></th>\n",
              "    </tr>\n",
              "  </thead>\n",
              "  <tbody>\n",
              "    <tr>\n",
              "      <th>2017-12-01</th>\n",
              "      <td>9789</td>\n",
              "      <td>16462.600000</td>\n",
              "      <td>NaN</td>\n",
              "    </tr>\n",
              "    <tr>\n",
              "      <th>2017-12-02</th>\n",
              "      <td>9789</td>\n",
              "      <td>19300.646667</td>\n",
              "      <td>16462.600000</td>\n",
              "    </tr>\n",
              "    <tr>\n",
              "      <th>2017-12-03</th>\n",
              "      <td>9789</td>\n",
              "      <td>4939.280000</td>\n",
              "      <td>19300.646667</td>\n",
              "    </tr>\n",
              "    <tr>\n",
              "      <th>2017-12-04</th>\n",
              "      <td>9789</td>\n",
              "      <td>4903.460000</td>\n",
              "      <td>4939.280000</td>\n",
              "    </tr>\n",
              "    <tr>\n",
              "      <th>2017-12-05</th>\n",
              "      <td>9789</td>\n",
              "      <td>7227.500000</td>\n",
              "      <td>4903.460000</td>\n",
              "    </tr>\n",
              "    <tr>\n",
              "      <th>...</th>\n",
              "      <td>...</td>\n",
              "      <td>...</td>\n",
              "      <td>...</td>\n",
              "    </tr>\n",
              "    <tr>\n",
              "      <th>2019-12-27</th>\n",
              "      <td>9789</td>\n",
              "      <td>6826.193333</td>\n",
              "      <td>1866.113333</td>\n",
              "    </tr>\n",
              "    <tr>\n",
              "      <th>2019-12-28</th>\n",
              "      <td>9789</td>\n",
              "      <td>10774.146667</td>\n",
              "      <td>6826.193333</td>\n",
              "    </tr>\n",
              "    <tr>\n",
              "      <th>2019-12-29</th>\n",
              "      <td>9789</td>\n",
              "      <td>5805.760000</td>\n",
              "      <td>10774.146667</td>\n",
              "    </tr>\n",
              "    <tr>\n",
              "      <th>2019-12-30</th>\n",
              "      <td>9789</td>\n",
              "      <td>5192.146667</td>\n",
              "      <td>5805.760000</td>\n",
              "    </tr>\n",
              "    <tr>\n",
              "      <th>2019-12-31</th>\n",
              "      <td>9789</td>\n",
              "      <td>9271.346667</td>\n",
              "      <td>5192.146667</td>\n",
              "    </tr>\n",
              "  </tbody>\n",
              "</table>\n",
              "<p>752 rows × 3 columns</p>\n",
              "</div>"
            ],
            "text/plain": [
              "            Location  Actual_Sales  Forcast_Sales\n",
              "date                                             \n",
              "2017-12-01      9789  16462.600000            NaN\n",
              "2017-12-02      9789  19300.646667   16462.600000\n",
              "2017-12-03      9789   4939.280000   19300.646667\n",
              "2017-12-04      9789   4903.460000    4939.280000\n",
              "2017-12-05      9789   7227.500000    4903.460000\n",
              "...              ...           ...            ...\n",
              "2019-12-27      9789   6826.193333    1866.113333\n",
              "2019-12-28      9789  10774.146667    6826.193333\n",
              "2019-12-29      9789   5805.760000   10774.146667\n",
              "2019-12-30      9789   5192.146667    5805.760000\n",
              "2019-12-31      9789   9271.346667    5192.146667\n",
              "\n",
              "[752 rows x 3 columns]"
            ]
          },
          "metadata": {
            "tags": []
          },
          "execution_count": 20
        }
      ]
    },
    {
      "cell_type": "code",
      "metadata": {
        "id": "xRCFli3TwVwF"
      },
      "source": [
        "#Remove row with NA\n",
        "df_max_base.dropna(inplace=True)"
      ],
      "execution_count": 21,
      "outputs": []
    },
    {
      "cell_type": "code",
      "metadata": {
        "colab": {
          "base_uri": "https://localhost:8080/",
          "height": 235
        },
        "id": "8CUfMiIlwnLy",
        "outputId": "e4e49997-b246-4409-e93c-a71901f744ba"
      },
      "source": [
        "df_max_base.head()"
      ],
      "execution_count": 22,
      "outputs": [
        {
          "output_type": "execute_result",
          "data": {
            "text/html": [
              "<div>\n",
              "<style scoped>\n",
              "    .dataframe tbody tr th:only-of-type {\n",
              "        vertical-align: middle;\n",
              "    }\n",
              "\n",
              "    .dataframe tbody tr th {\n",
              "        vertical-align: top;\n",
              "    }\n",
              "\n",
              "    .dataframe thead th {\n",
              "        text-align: right;\n",
              "    }\n",
              "</style>\n",
              "<table border=\"1\" class=\"dataframe\">\n",
              "  <thead>\n",
              "    <tr style=\"text-align: right;\">\n",
              "      <th></th>\n",
              "      <th>Location</th>\n",
              "      <th>Actual_Sales</th>\n",
              "      <th>Forcast_Sales</th>\n",
              "    </tr>\n",
              "    <tr>\n",
              "      <th>date</th>\n",
              "      <th></th>\n",
              "      <th></th>\n",
              "      <th></th>\n",
              "    </tr>\n",
              "  </thead>\n",
              "  <tbody>\n",
              "    <tr>\n",
              "      <th>2017-12-02</th>\n",
              "      <td>9789</td>\n",
              "      <td>19300.646667</td>\n",
              "      <td>16462.600000</td>\n",
              "    </tr>\n",
              "    <tr>\n",
              "      <th>2017-12-03</th>\n",
              "      <td>9789</td>\n",
              "      <td>4939.280000</td>\n",
              "      <td>19300.646667</td>\n",
              "    </tr>\n",
              "    <tr>\n",
              "      <th>2017-12-04</th>\n",
              "      <td>9789</td>\n",
              "      <td>4903.460000</td>\n",
              "      <td>4939.280000</td>\n",
              "    </tr>\n",
              "    <tr>\n",
              "      <th>2017-12-05</th>\n",
              "      <td>9789</td>\n",
              "      <td>7227.500000</td>\n",
              "      <td>4903.460000</td>\n",
              "    </tr>\n",
              "    <tr>\n",
              "      <th>2017-12-06</th>\n",
              "      <td>9789</td>\n",
              "      <td>7277.400000</td>\n",
              "      <td>7227.500000</td>\n",
              "    </tr>\n",
              "  </tbody>\n",
              "</table>\n",
              "</div>"
            ],
            "text/plain": [
              "            Location  Actual_Sales  Forcast_Sales\n",
              "date                                             \n",
              "2017-12-02      9789  19300.646667   16462.600000\n",
              "2017-12-03      9789   4939.280000   19300.646667\n",
              "2017-12-04      9789   4903.460000    4939.280000\n",
              "2017-12-05      9789   7227.500000    4903.460000\n",
              "2017-12-06      9789   7277.400000    7227.500000"
            ]
          },
          "metadata": {
            "tags": []
          },
          "execution_count": 22
        }
      ]
    },
    {
      "cell_type": "code",
      "metadata": {
        "id": "rccZvp4XxRO5"
      },
      "source": [
        "# Create a model to consider the root mean square error\n",
        "from sklearn.metrics import mean_squared_error\n",
        "import numpy as np"
      ],
      "execution_count": 23,
      "outputs": []
    },
    {
      "cell_type": "code",
      "metadata": {
        "id": "_vSUE8iJxdKa"
      },
      "source": [
        "df_max_error = mean_squared_error(df_max_base.Actual_Sales, df_max_base.Forcast_Sales)"
      ],
      "execution_count": 24,
      "outputs": []
    },
    {
      "cell_type": "code",
      "metadata": {
        "colab": {
          "base_uri": "https://localhost:8080/"
        },
        "id": "oJEz1-mOxw9L",
        "outputId": "7b99ee81-5991-48d6-87a7-2e1084a950ba"
      },
      "source": [
        "df_max_error"
      ],
      "execution_count": 25,
      "outputs": [
        {
          "output_type": "execute_result",
          "data": {
            "text/plain": [
              "24278362.112615258"
            ]
          },
          "metadata": {
            "tags": []
          },
          "execution_count": 25
        }
      ]
    },
    {
      "cell_type": "code",
      "metadata": {
        "colab": {
          "base_uri": "https://localhost:8080/"
        },
        "id": "o6Zq7MxkyEK9",
        "outputId": "1f077f86-3e7f-45f2-96bf-6bfcdf0e85f0"
      },
      "source": [
        "np.sqrt(df_max_error)"
      ],
      "execution_count": 26,
      "outputs": [
        {
          "output_type": "execute_result",
          "data": {
            "text/plain": [
              "4927.307795603524"
            ]
          },
          "metadata": {
            "tags": []
          },
          "execution_count": 26
        }
      ]
    },
    {
      "cell_type": "code",
      "metadata": {
        "colab": {
          "base_uri": "https://localhost:8080/"
        },
        "id": "60SMyFqK4lbN",
        "outputId": "3ad3e7ea-ff54-45d7-c4fe-127fe46766ef"
      },
      "source": [
        "from statsmodels.graphics.tsaplots import plot_acf,plot_pacf"
      ],
      "execution_count": 27,
      "outputs": [
        {
          "output_type": "stream",
          "text": [
            "/usr/local/lib/python3.7/dist-packages/statsmodels/tools/_testing.py:19: FutureWarning: pandas.util.testing is deprecated. Use the functions in the public API at pandas.testing instead.\n",
            "  import pandas.util.testing as tm\n"
          ],
          "name": "stderr"
        }
      ]
    },
    {
      "cell_type": "code",
      "metadata": {
        "colab": {
          "base_uri": "https://localhost:8080/",
          "height": 545
        },
        "id": "6VrdzYc_4xeJ",
        "outputId": "6b4eebad-e70d-408d-8aff-d6af3a0cfa90"
      },
      "source": [
        "plot_acf(df_max['sales'])"
      ],
      "execution_count": 28,
      "outputs": [
        {
          "output_type": "execute_result",
          "data": {
            "image/png": "[encoded data removed]",
            "text/plain": [
              "<Figure size 432x288 with 1 Axes>"
            ]
          },
          "metadata": {
            "tags": []
          },
          "execution_count": 28
        },
        {
          "output_type": "display_data",
          "data": {
            "image/png": "[encoded data removed]",
            "text/plain": [
              "<Figure size 432x288 with 1 Axes>"
            ]
          },
          "metadata": {
            "tags": [],
            "needs_background": "light"
          }
        }
      ]
    },
    {
      "cell_type": "code",
      "metadata": {
        "id": "F2-cKd3e-4PP"
      },
      "source": [
        "# Q - 3  p - 1, "
      ],
      "execution_count": 29,
      "outputs": []
    },
    {
      "cell_type": "code",
      "metadata": {
        "colab": {
          "base_uri": "https://localhost:8080/",
          "height": 545
        },
        "id": "IgMPXd446X_B",
        "outputId": "2ee28517-21ca-4b9c-ad1d-9249b284817e"
      },
      "source": [
        "plot_pacf(df_max['sales'])"
      ],
      "execution_count": 30,
      "outputs": [
        {
          "output_type": "execute_result",
          "data": {
            "image/png": "[encoded data removed]",
            "text/plain": [
              "<Figure size 432x288 with 1 Axes>"
            ]
          },
          "metadata": {
            "tags": []
          },
          "execution_count": 30
        },
        {
          "output_type": "display_data",
          "data": {
            "image/png": "[encoded data removed]",
            "text/plain": [
              "<Figure size 432x288 with 1 Axes>"
            ]
          },
          "metadata": {
            "tags": [],
            "needs_background": "light"
          }
        }
      ]
    },
    {
      "cell_type": "code",
      "metadata": {
        "id": "HzesIhNm9rU9"
      },
      "source": [
        "from statsmodels.tsa.arima_model import ARIMA"
      ],
      "execution_count": 31,
      "outputs": []
    },
    {
      "cell_type": "code",
      "metadata": {
        "id": "1BHf1IBaMLrO"
      },
      "source": [
        "# df_max['date'] = pd.to_datetime(df_max['date'])\n",
        "# df_max = df_max.set_index(df_max['date'])\n",
        "# df_max = df_max.sort_index()"
      ],
      "execution_count": 43,
      "outputs": []
    },
    {
      "cell_type": "code",
      "metadata": {
        "colab": {
          "base_uri": "https://localhost:8080/",
          "height": 419
        },
        "id": "GjkMrl6rHH6t",
        "outputId": "aab49b54-c80a-413c-9f10-682e50a75807"
      },
      "source": [
        "df_max_data = df[df[\"location\"] == 9789]\n",
        "df_max_data\n"
      ],
      "execution_count": 44,
      "outputs": [
        {
          "output_type": "execute_result",
          "data": {
            "text/html": [
              "<div>\n",
              "<style scoped>\n",
              "    .dataframe tbody tr th:only-of-type {\n",
              "        vertical-align: middle;\n",
              "    }\n",
              "\n",
              "    .dataframe tbody tr th {\n",
              "        vertical-align: top;\n",
              "    }\n",
              "\n",
              "    .dataframe thead th {\n",
              "        text-align: right;\n",
              "    }\n",
              "</style>\n",
              "<table border=\"1\" class=\"dataframe\">\n",
              "  <thead>\n",
              "    <tr style=\"text-align: right;\">\n",
              "      <th></th>\n",
              "      <th>location</th>\n",
              "      <th>date</th>\n",
              "      <th>sales</th>\n",
              "    </tr>\n",
              "  </thead>\n",
              "  <tbody>\n",
              "    <tr>\n",
              "      <th>29057</th>\n",
              "      <td>9789</td>\n",
              "      <td>2017-12-01</td>\n",
              "      <td>16462.600000</td>\n",
              "    </tr>\n",
              "    <tr>\n",
              "      <th>29058</th>\n",
              "      <td>9789</td>\n",
              "      <td>2017-12-02</td>\n",
              "      <td>19300.646667</td>\n",
              "    </tr>\n",
              "    <tr>\n",
              "      <th>29059</th>\n",
              "      <td>9789</td>\n",
              "      <td>2017-12-03</td>\n",
              "      <td>4939.280000</td>\n",
              "    </tr>\n",
              "    <tr>\n",
              "      <th>29060</th>\n",
              "      <td>9789</td>\n",
              "      <td>2017-12-04</td>\n",
              "      <td>4903.460000</td>\n",
              "    </tr>\n",
              "    <tr>\n",
              "      <th>29061</th>\n",
              "      <td>9789</td>\n",
              "      <td>2017-12-05</td>\n",
              "      <td>7227.500000</td>\n",
              "    </tr>\n",
              "    <tr>\n",
              "      <th>...</th>\n",
              "      <td>...</td>\n",
              "      <td>...</td>\n",
              "      <td>...</td>\n",
              "    </tr>\n",
              "    <tr>\n",
              "      <th>29804</th>\n",
              "      <td>9789</td>\n",
              "      <td>2019-12-27</td>\n",
              "      <td>6826.193333</td>\n",
              "    </tr>\n",
              "    <tr>\n",
              "      <th>29805</th>\n",
              "      <td>9789</td>\n",
              "      <td>2019-12-28</td>\n",
              "      <td>10774.146667</td>\n",
              "    </tr>\n",
              "    <tr>\n",
              "      <th>29806</th>\n",
              "      <td>9789</td>\n",
              "      <td>2019-12-29</td>\n",
              "      <td>5805.760000</td>\n",
              "    </tr>\n",
              "    <tr>\n",
              "      <th>29807</th>\n",
              "      <td>9789</td>\n",
              "      <td>2019-12-30</td>\n",
              "      <td>5192.146667</td>\n",
              "    </tr>\n",
              "    <tr>\n",
              "      <th>29808</th>\n",
              "      <td>9789</td>\n",
              "      <td>2019-12-31</td>\n",
              "      <td>9271.346667</td>\n",
              "    </tr>\n",
              "  </tbody>\n",
              "</table>\n",
              "<p>752 rows × 3 columns</p>\n",
              "</div>"
            ],
            "text/plain": [
              "       location        date         sales\n",
              "29057      9789  2017-12-01  16462.600000\n",
              "29058      9789  2017-12-02  19300.646667\n",
              "29059      9789  2017-12-03   4939.280000\n",
              "29060      9789  2017-12-04   4903.460000\n",
              "29061      9789  2017-12-05   7227.500000\n",
              "...         ...         ...           ...\n",
              "29804      9789  2019-12-27   6826.193333\n",
              "29805      9789  2019-12-28  10774.146667\n",
              "29806      9789  2019-12-29   5805.760000\n",
              "29807      9789  2019-12-30   5192.146667\n",
              "29808      9789  2019-12-31   9271.346667\n",
              "\n",
              "[752 rows x 3 columns]"
            ]
          },
          "metadata": {
            "tags": []
          },
          "execution_count": 44
        }
      ]
    },
    {
      "cell_type": "code",
      "metadata": {
        "colab": {
          "base_uri": "https://localhost:8080/",
          "height": 419
        },
        "id": "NpxHChhajOV-",
        "outputId": "a04e8b82-2fcf-40fb-97b8-50b6ca0ab4c0"
      },
      "source": [
        "df_max_train = df_max_data[(df_max_data['date'] <= '2019-09-30')]\n",
        "df_max_train"
      ],
      "execution_count": 45,
      "outputs": [
        {
          "output_type": "execute_result",
          "data": {
            "text/html": [
              "<div>\n",
              "<style scoped>\n",
              "    .dataframe tbody tr th:only-of-type {\n",
              "        vertical-align: middle;\n",
              "    }\n",
              "\n",
              "    .dataframe tbody tr th {\n",
              "        vertical-align: top;\n",
              "    }\n",
              "\n",
              "    .dataframe thead th {\n",
              "        text-align: right;\n",
              "    }\n",
              "</style>\n",
              "<table border=\"1\" class=\"dataframe\">\n",
              "  <thead>\n",
              "    <tr style=\"text-align: right;\">\n",
              "      <th></th>\n",
              "      <th>location</th>\n",
              "      <th>date</th>\n",
              "      <th>sales</th>\n",
              "    </tr>\n",
              "  </thead>\n",
              "  <tbody>\n",
              "    <tr>\n",
              "      <th>29057</th>\n",
              "      <td>9789</td>\n",
              "      <td>2017-12-01</td>\n",
              "      <td>16462.600000</td>\n",
              "    </tr>\n",
              "    <tr>\n",
              "      <th>29058</th>\n",
              "      <td>9789</td>\n",
              "      <td>2017-12-02</td>\n",
              "      <td>19300.646667</td>\n",
              "    </tr>\n",
              "    <tr>\n",
              "      <th>29059</th>\n",
              "      <td>9789</td>\n",
              "      <td>2017-12-03</td>\n",
              "      <td>4939.280000</td>\n",
              "    </tr>\n",
              "    <tr>\n",
              "      <th>29060</th>\n",
              "      <td>9789</td>\n",
              "      <td>2017-12-04</td>\n",
              "      <td>4903.460000</td>\n",
              "    </tr>\n",
              "    <tr>\n",
              "      <th>29061</th>\n",
              "      <td>9789</td>\n",
              "      <td>2017-12-05</td>\n",
              "      <td>7227.500000</td>\n",
              "    </tr>\n",
              "    <tr>\n",
              "      <th>...</th>\n",
              "      <td>...</td>\n",
              "      <td>...</td>\n",
              "      <td>...</td>\n",
              "    </tr>\n",
              "    <tr>\n",
              "      <th>29713</th>\n",
              "      <td>9789</td>\n",
              "      <td>2019-09-26</td>\n",
              "      <td>4180.633333</td>\n",
              "    </tr>\n",
              "    <tr>\n",
              "      <th>29714</th>\n",
              "      <td>9789</td>\n",
              "      <td>2019-09-27</td>\n",
              "      <td>7395.200000</td>\n",
              "    </tr>\n",
              "    <tr>\n",
              "      <th>29715</th>\n",
              "      <td>9789</td>\n",
              "      <td>2019-09-28</td>\n",
              "      <td>15655.033333</td>\n",
              "    </tr>\n",
              "    <tr>\n",
              "      <th>29716</th>\n",
              "      <td>9789</td>\n",
              "      <td>2019-09-29</td>\n",
              "      <td>3084.386667</td>\n",
              "    </tr>\n",
              "    <tr>\n",
              "      <th>29717</th>\n",
              "      <td>9789</td>\n",
              "      <td>2019-09-30</td>\n",
              "      <td>1768.366667</td>\n",
              "    </tr>\n",
              "  </tbody>\n",
              "</table>\n",
              "<p>661 rows × 3 columns</p>\n",
              "</div>"
            ],
            "text/plain": [
              "       location        date         sales\n",
              "29057      9789  2017-12-01  16462.600000\n",
              "29058      9789  2017-12-02  19300.646667\n",
              "29059      9789  2017-12-03   4939.280000\n",
              "29060      9789  2017-12-04   4903.460000\n",
              "29061      9789  2017-12-05   7227.500000\n",
              "...         ...         ...           ...\n",
              "29713      9789  2019-09-26   4180.633333\n",
              "29714      9789  2019-09-27   7395.200000\n",
              "29715      9789  2019-09-28  15655.033333\n",
              "29716      9789  2019-09-29   3084.386667\n",
              "29717      9789  2019-09-30   1768.366667\n",
              "\n",
              "[661 rows x 3 columns]"
            ]
          },
          "metadata": {
            "tags": []
          },
          "execution_count": 45
        }
      ]
    },
    {
      "cell_type": "code",
      "metadata": {
        "colab": {
          "base_uri": "https://localhost:8080/"
        },
        "id": "6R4tZ4kuIcts",
        "outputId": "31dde5c8-2b95-4554-da5b-6715b9486f7a"
      },
      "source": [
        "df_max_train = df_max_train['sales']\n",
        "df_max_train\n"
      ],
      "execution_count": 46,
      "outputs": [
        {
          "output_type": "execute_result",
          "data": {
            "text/plain": [
              "29057    16462.600000\n",
              "29058    19300.646667\n",
              "29059     4939.280000\n",
              "29060     4903.460000\n",
              "29061     7227.500000\n",
              "             ...     \n",
              "29713     4180.633333\n",
              "29714     7395.200000\n",
              "29715    15655.033333\n",
              "29716     3084.386667\n",
              "29717     1768.366667\n",
              "Name: sales, Length: 661, dtype: float64"
            ]
          },
          "metadata": {
            "tags": []
          },
          "execution_count": 46
        }
      ]
    },
    {
      "cell_type": "code",
      "metadata": {
        "id": "cF5TghWB_Zid"
      },
      "source": [
        "df_max_test = df_max_data[(df_max_data['date'] >= '2019-10-01') & (df_max_data['date'] <= '2019-12-01')]"
      ],
      "execution_count": 47,
      "outputs": []
    },
    {
      "cell_type": "code",
      "metadata": {
        "colab": {
          "base_uri": "https://localhost:8080/"
        },
        "id": "uT0_1K7Njwti",
        "outputId": "8e441489-2104-4530-d27a-90a110631e20"
      },
      "source": [
        "df_max_test = df_max_test['sales']\n",
        "df_max_test"
      ],
      "execution_count": 48,
      "outputs": [
        {
          "output_type": "execute_result",
          "data": {
            "text/plain": [
              "29718     3374.466667\n",
              "29719     2256.233333\n",
              "29720     3682.400000\n",
              "29721     7168.933333\n",
              "29722    13693.206667\n",
              "             ...     \n",
              "29775     5072.140000\n",
              "29776     6241.500000\n",
              "29777    14714.000000\n",
              "29778    21943.046667\n",
              "29779     5106.246667\n",
              "Name: sales, Length: 62, dtype: float64"
            ]
          },
          "metadata": {
            "tags": []
          },
          "execution_count": 48
        }
      ]
    },
    {
      "cell_type": "code",
      "metadata": {
        "colab": {
          "base_uri": "https://localhost:8080/"
        },
        "id": "1zMRJKktHkjX",
        "outputId": "0fcacf4a-8771-4a83-9b7f-c9dc63c28c8d"
      },
      "source": [
        "df_max_model = ARIMA(df_max_train, order=(2,1,2))"
      ],
      "execution_count": 61,
      "outputs": [
        {
          "output_type": "stream",
          "text": [
            "/usr/local/lib/python3.7/dist-packages/statsmodels/tsa/base/tsa_model.py:215: ValueWarning: An unsupported index was provided and will be ignored when e.g. forecasting.\n",
            "  ' ignored when e.g. forecasting.', ValueWarning)\n",
            "/usr/local/lib/python3.7/dist-packages/statsmodels/tsa/base/tsa_model.py:215: ValueWarning: An unsupported index was provided and will be ignored when e.g. forecasting.\n",
            "  ' ignored when e.g. forecasting.', ValueWarning)\n"
          ],
          "name": "stderr"
        }
      ]
    },
    {
      "cell_type": "code",
      "metadata": {
        "id": "p2seEPw8TnXV"
      },
      "source": [
        "df_max_model_fit = df_max_model.fit()"
      ],
      "execution_count": 62,
      "outputs": []
    },
    {
      "cell_type": "code",
      "metadata": {
        "colab": {
          "base_uri": "https://localhost:8080/"
        },
        "id": "NFJ2QtBUVJAW",
        "outputId": "a057930f-862b-4343-e000-b81303cc9dd8"
      },
      "source": [
        "df_max_model_fit.aic"
      ],
      "execution_count": 63,
      "outputs": [
        {
          "output_type": "execute_result",
          "data": {
            "text/plain": [
              "12607.26862755947"
            ]
          },
          "metadata": {
            "tags": []
          },
          "execution_count": 63
        }
      ]
    },
    {
      "cell_type": "code",
      "metadata": {
        "id": "zom50HHBYLN0"
      },
      "source": [
        "df_max_model_fit_forcast =  df_max_model_fit.forecast(steps=11)[0]"
      ],
      "execution_count": 64,
      "outputs": []
    },
    {
      "cell_type": "code",
      "metadata": {
        "colab": {
          "base_uri": "https://localhost:8080/",
          "height": 306
        },
        "id": "9rdlKt-zYttu",
        "outputId": "8ad1bf15-87e6-4b13-ea17-5f4bd375c563"
      },
      "source": [
        "np.sqrt(mean_squared_error(df_max_test, df_max_model_fit_forcast))"
      ],
      "execution_count": 65,
      "outputs": [
        {
          "output_type": "error",
          "ename": "ValueError",
          "evalue": "ignored",
          "traceback": [
            "\u001b[0;31m---------------------------------------------------------------------------\u001b[0m",
            "\u001b[0;31mValueError\u001b[0m                                Traceback (most recent call last)",
            "\u001b[0;32m<ipython-input-65-dd51f026625c>\u001b[0m in \u001b[0;36m<module>\u001b[0;34m()\u001b[0m\n\u001b[0;32m----> 1\u001b[0;31m \u001b[0mnp\u001b[0m\u001b[0;34m.\u001b[0m\u001b[0msqrt\u001b[0m\u001b[0;34m(\u001b[0m\u001b[0mmean_squared_error\u001b[0m\u001b[0;34m(\u001b[0m\u001b[0mdf_max_test\u001b[0m\u001b[0;34m,\u001b[0m \u001b[0mdf_max_model_fit_forcast\u001b[0m\u001b[0;34m)\u001b[0m\u001b[0;34m)\u001b[0m\u001b[0;34m\u001b[0m\u001b[0;34m\u001b[0m\u001b[0m\n\u001b[0m",
            "\u001b[0;32m/usr/local/lib/python3.7/dist-packages/sklearn/metrics/_regression.py\u001b[0m in \u001b[0;36mmean_squared_error\u001b[0;34m(y_true, y_pred, sample_weight, multioutput, squared)\u001b[0m\n\u001b[1;32m    250\u001b[0m     \"\"\"\n\u001b[1;32m    251\u001b[0m     y_type, y_true, y_pred, multioutput = _check_reg_targets(\n\u001b[0;32m--> 252\u001b[0;31m         y_true, y_pred, multioutput)\n\u001b[0m\u001b[1;32m    253\u001b[0m     \u001b[0mcheck_consistent_length\u001b[0m\u001b[0;34m(\u001b[0m\u001b[0my_true\u001b[0m\u001b[0;34m,\u001b[0m \u001b[0my_pred\u001b[0m\u001b[0;34m,\u001b[0m \u001b[0msample_weight\u001b[0m\u001b[0;34m)\u001b[0m\u001b[0;34m\u001b[0m\u001b[0;34m\u001b[0m\u001b[0m\n\u001b[1;32m    254\u001b[0m     output_errors = np.average((y_true - y_pred) ** 2, axis=0,\n",
            "\u001b[0;32m/usr/local/lib/python3.7/dist-packages/sklearn/metrics/_regression.py\u001b[0m in \u001b[0;36m_check_reg_targets\u001b[0;34m(y_true, y_pred, multioutput, dtype)\u001b[0m\n\u001b[1;32m     82\u001b[0m \u001b[0;34m\u001b[0m\u001b[0m\n\u001b[1;32m     83\u001b[0m     \"\"\"\n\u001b[0;32m---> 84\u001b[0;31m     \u001b[0mcheck_consistent_length\u001b[0m\u001b[0;34m(\u001b[0m\u001b[0my_true\u001b[0m\u001b[0;34m,\u001b[0m \u001b[0my_pred\u001b[0m\u001b[0;34m)\u001b[0m\u001b[0;34m\u001b[0m\u001b[0;34m\u001b[0m\u001b[0m\n\u001b[0m\u001b[1;32m     85\u001b[0m     \u001b[0my_true\u001b[0m \u001b[0;34m=\u001b[0m \u001b[0mcheck_array\u001b[0m\u001b[0;34m(\u001b[0m\u001b[0my_true\u001b[0m\u001b[0;34m,\u001b[0m \u001b[0mensure_2d\u001b[0m\u001b[0;34m=\u001b[0m\u001b[0;32mFalse\u001b[0m\u001b[0;34m,\u001b[0m \u001b[0mdtype\u001b[0m\u001b[0;34m=\u001b[0m\u001b[0mdtype\u001b[0m\u001b[0;34m)\u001b[0m\u001b[0;34m\u001b[0m\u001b[0;34m\u001b[0m\u001b[0m\n\u001b[1;32m     86\u001b[0m     \u001b[0my_pred\u001b[0m \u001b[0;34m=\u001b[0m \u001b[0mcheck_array\u001b[0m\u001b[0;34m(\u001b[0m\u001b[0my_pred\u001b[0m\u001b[0;34m,\u001b[0m \u001b[0mensure_2d\u001b[0m\u001b[0;34m=\u001b[0m\u001b[0;32mFalse\u001b[0m\u001b[0;34m,\u001b[0m \u001b[0mdtype\u001b[0m\u001b[0;34m=\u001b[0m\u001b[0mdtype\u001b[0m\u001b[0;34m)\u001b[0m\u001b[0;34m\u001b[0m\u001b[0;34m\u001b[0m\u001b[0m\n",
            "\u001b[0;32m/usr/local/lib/python3.7/dist-packages/sklearn/utils/validation.py\u001b[0m in \u001b[0;36mcheck_consistent_length\u001b[0;34m(*arrays)\u001b[0m\n\u001b[1;32m    210\u001b[0m     \u001b[0;32mif\u001b[0m \u001b[0mlen\u001b[0m\u001b[0;34m(\u001b[0m\u001b[0muniques\u001b[0m\u001b[0;34m)\u001b[0m \u001b[0;34m>\u001b[0m \u001b[0;36m1\u001b[0m\u001b[0;34m:\u001b[0m\u001b[0;34m\u001b[0m\u001b[0;34m\u001b[0m\u001b[0m\n\u001b[1;32m    211\u001b[0m         raise ValueError(\"Found input variables with inconsistent numbers of\"\n\u001b[0;32m--> 212\u001b[0;31m                          \" samples: %r\" % [int(l) for l in lengths])\n\u001b[0m\u001b[1;32m    213\u001b[0m \u001b[0;34m\u001b[0m\u001b[0m\n\u001b[1;32m    214\u001b[0m \u001b[0;34m\u001b[0m\u001b[0m\n",
            "\u001b[0;31mValueError\u001b[0m: Found input variables with inconsistent numbers of samples: [62, 11]"
          ]
        }
      ]
    }
  ]
}